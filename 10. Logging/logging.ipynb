{
 "cells": [
  {
   "cell_type": "markdown",
   "metadata": {},
   "source": [
    "#### PYTHON LOGGING\n",
    "\n",
    "Logging is a crucial aspect of any application, providing a way to track events,errors and operational information. Python's built-in logging module offers a flexible framework for emitting log messages from python programs."
   ]
  },
  {
   "cell_type": "code",
   "execution_count": 1,
   "metadata": {},
   "outputs": [
    {
     "name": "stderr",
     "output_type": "stream",
     "text": [
      "DEBUG:root:This is a debug message\n",
      "INFO:root:This is a info message\n",
      "WARNING:root:This is a warning message\n",
      "ERROR:root:This is a error message\n",
      "CRITICAL:root:This is a critical error message\n"
     ]
    }
   ],
   "source": [
    "import logging\n",
    "\n",
    "## configure the basic logging settings\n",
    "\n",
    "logging.basicConfig(level=logging.DEBUG)\n",
    "\n",
    "## log messages\n",
    "\n",
    "logging.debug(\"This is a debug message\")\n",
    "logging.info(\"This is a info message\")\n",
    "logging.warning(\"This is a warning message\")\n",
    "logging.error(\"This is a error message\")\n",
    "logging.critical(\"This is a critical error message\")"
   ]
  },
  {
   "cell_type": "code",
   "execution_count": 6,
   "metadata": {},
   "outputs": [],
   "source": [
    "import logging\n",
    "\n",
    "logging.basicConfig(\n",
    "    level=logging.DEBUG,\n",
    "    format='%(asctime)s-%(name)s-%(levelname)s-%(message)s',\n",
    "    datefmt='%Y-%m-%d %H:%M:%S'\n",
    "    )\n"
   ]
  },
  {
   "cell_type": "code",
   "execution_count": 7,
   "metadata": {},
   "outputs": [
    {
     "name": "stderr",
     "output_type": "stream",
     "text": [
      "DEBUG:root:This is a debug message\n",
      "INFO:root:This is a info message\n",
      "WARNING:root:This is a warning message\n",
      "ERROR:root:This is a error message\n",
      "CRITICAL:root:This is a critical error message\n"
     ]
    }
   ],
   "source": [
    "\n",
    "logging.debug(\"This is a debug message\")\n",
    "logging.info(\"This is a info message\")\n",
    "logging.warning(\"This is a warning message\")\n",
    "logging.error(\"This is a error message\")\n",
    "logging.critical(\"This is a critical error message\")"
   ]
  },
  {
   "cell_type": "code",
   "execution_count": null,
   "metadata": {},
   "outputs": [],
   "source": [
    "## todo - pending"
   ]
  }
 ],
 "metadata": {
  "kernelspec": {
   "display_name": "Python 3",
   "language": "python",
   "name": "python3"
  },
  "language_info": {
   "codemirror_mode": {
    "name": "ipython",
    "version": 3
   },
   "file_extension": ".py",
   "mimetype": "text/x-python",
   "name": "python",
   "nbconvert_exporter": "python",
   "pygments_lexer": "ipython3",
   "version": "3.9.20"
  }
 },
 "nbformat": 4,
 "nbformat_minor": 2
}
