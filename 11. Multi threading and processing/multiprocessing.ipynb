{
 "cells": [
  {
   "cell_type": "markdown",
   "metadata": {},
   "source": [
    "#### multi processing is used in processes that run in parallel\n",
    "#### cpu-bound taks-tasks that are heavy on cpu usage(eg: mathematical operations, data) processing\n",
    "#### parallel execution- multiple cores of the cpu"
   ]
  },
  {
   "cell_type": "code",
   "execution_count": 4,
   "metadata": {},
   "outputs": [
    {
     "name": "stdout",
     "output_type": "stream",
     "text": [
      "0.048390865325927734\n"
     ]
    },
    {
     "name": "stderr",
     "output_type": "stream",
     "text": [
      "Traceback (most recent call last):\n",
      "  File \"<string>\", line 1, in <module>\n",
      "Traceback (most recent call last):\n",
      "  File \"<string>\", line 1, in <module>\n",
      "  File \"/Users/priyankarajana/DATASCIENCE/DS/venv/lib/python3.9/multiprocessing/spawn.py\", line 116, in spawn_main\n",
      "  File \"/Users/priyankarajana/DATASCIENCE/DS/venv/lib/python3.9/multiprocessing/spawn.py\", line 116, in spawn_main\n",
      "    exitcode = _main(fd, parent_sentinel)\n",
      "      File \"/Users/priyankarajana/DATASCIENCE/DS/venv/lib/python3.9/multiprocessing/spawn.py\", line 126, in _main\n",
      "exitcode = _main(fd, parent_sentinel)\n",
      "  File \"/Users/priyankarajana/DATASCIENCE/DS/venv/lib/python3.9/multiprocessing/spawn.py\", line 126, in _main\n",
      "    self = reduction.pickle.load(from_parent)\n",
      "    AttributeErrorself = reduction.pickle.load(from_parent)\n",
      ": Can't get attribute 'cube_nos' on <module '__main__' (built-in)>\n",
      "AttributeError: Can't get attribute 'square_nos' on <module '__main__' (built-in)>\n"
     ]
    }
   ],
   "source": [
    "import multiprocessing\n",
    "\n",
    "import time\n",
    "\n",
    "def square_nos():\n",
    "    for i in range(5):\n",
    "        time.sleep(1)\n",
    "        print(f\"square: {i*i}\")\n",
    "        \n",
    "        \n",
    "def cube_nos():\n",
    "    for i in range(5):\n",
    "        time.sleep(1.5)\n",
    "        print(f\"cubes: {i*i*i}\")\n",
    "        \n",
    "# if __name__==\"__main__\":\n",
    "            \n",
    "    ## create 2 process\n",
    "\n",
    "p1=multiprocessing.Process(target=square_nos)\n",
    "p2=multiprocessing.Process(target=cube_nos)\n",
    "t=time.time()\n",
    "## start the process\n",
    "\n",
    "p1.start()\n",
    "p2.start()\n",
    "\n",
    "## wait for the process to complete\n",
    "\n",
    "p1.join()\n",
    "p2.join()\n",
    "\n",
    "\n",
    "finished_time=time.time()-t\n",
    "print(finished_time)"
   ]
  }
 ],
 "metadata": {
  "kernelspec": {
   "display_name": "Python 3",
   "language": "python",
   "name": "python3"
  },
  "language_info": {
   "codemirror_mode": {
    "name": "ipython",
    "version": 3
   },
   "file_extension": ".py",
   "mimetype": "text/x-python",
   "name": "python",
   "nbconvert_exporter": "python",
   "pygments_lexer": "ipython3",
   "version": "3.9.20"
  }
 },
 "nbformat": 4,
 "nbformat_minor": 2
}
