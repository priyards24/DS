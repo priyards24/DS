{
 "cells": [
  {
   "cell_type": "markdown",
   "metadata": {},
   "source": [
    "#### Multi threading and Multi processing\n",
    "\n",
    "Program: A program is a sequence of instructions written in programming language. [eg: python, php etc] \n",
    "\n",
    "Process: A process is simply an instance of a program that is being executed.\n",
    "\n",
    "Thread: A thread is a unit of execution within a process\n",
    "\n",
    "single threaded process : single thread will have own stack and register\n",
    "\n",
    "eg: ms paint-> opened as process->create thread(create anythg)->each therad each operation\n",
    "\n",
    "Multi thread processing: multi threads having its own stack and registers with process"
   ]
  },
  {
   "cell_type": "markdown",
   "metadata": {},
   "source": [
    "#### when to use multi threading\n",
    "#### i/o-bound tasks: Tasks that spend more time waiting for i/o operations (eg: file operations, network requests)\n",
    "####concurrent execution: multiple operations executions concurently"
   ]
  },
  {
   "cell_type": "code",
   "execution_count": 1,
   "metadata": {},
   "outputs": [],
   "source": [
    "import threading\n",
    "import time\n",
    "\n",
    "def print_numbers():\n",
    "    for i in range(5):\n",
    "        print(f\"number:{i}\")\n",
    "        \n",
    "def print_letter():\n",
    "    for letter in \"abcde\":\n",
    "        print(f\"letter:{letter}\") "
   ]
  },
  {
   "cell_type": "code",
   "execution_count": 5,
   "metadata": {},
   "outputs": [
    {
     "name": "stdout",
     "output_type": "stream",
     "text": [
      "number:0\n",
      "number:1\n",
      "number:2\n",
      "number:3\n",
      "number:4\n",
      "letter:a\n",
      "letter:b\n",
      "letter:c\n",
      "letter:d\n",
      "letter:e\n",
      "9.298324584960938e-05\n"
     ]
    }
   ],
   "source": [
    "t=time.time()\n",
    "print_numbers()\n",
    "print_letter()\n",
    "finished_time=time.time()-t\n",
    "print(finished_time)"
   ]
  },
  {
   "cell_type": "code",
   "execution_count": 8,
   "metadata": {},
   "outputs": [
    {
     "name": "stdout",
     "output_type": "stream",
     "text": [
      "letter:a\n",
      "number:0\n",
      "number:1letter:b\n",
      "\n",
      "number:2letter:c\n",
      "\n",
      "letter:dnumber:3\n",
      "\n",
      "number:4letter:e\n",
      "\n",
      "10.024704933166504\n"
     ]
    }
   ],
   "source": [
    "## using multi threading\n",
    "import threading\n",
    "import time\n",
    "\n",
    "def print_numbers():\n",
    "    for i in range(5):\n",
    "        time.sleep(2)\n",
    "        print(f\"number:{i}\")\n",
    "        \n",
    "def print_letter():\n",
    "    for letter in \"abcde\":\n",
    "        time.sleep(2)\n",
    "\n",
    "        print(f\"letter:{letter}\") \n",
    "        \n",
    "## create 2 threads\n",
    "\n",
    "t1=threading.Thread(target=print_numbers)\n",
    "t2=threading.Thread(target=print_letter)\n",
    "\n",
    "t=time.time()\n",
    "\n",
    "## start the thread\n",
    "t1.start()\n",
    "t2.start()\n",
    "\n",
    "## WAIT FOR THE THREADS TO COMPLETE\n",
    "\n",
    "t1.join()\n",
    "t2.join()\n",
    "\n",
    "finished_time=time.time()-t\n",
    "print(finished_time)"
   ]
  }
 ],
 "metadata": {
  "kernelspec": {
   "display_name": "Python 3",
   "language": "python",
   "name": "python3"
  },
  "language_info": {
   "codemirror_mode": {
    "name": "ipython",
    "version": 3
   },
   "file_extension": ".py",
   "mimetype": "text/x-python",
   "name": "python",
   "nbconvert_exporter": "python",
   "pygments_lexer": "ipython3",
   "version": "3.9.20"
  }
 },
 "nbformat": 4,
 "nbformat_minor": 2
}
