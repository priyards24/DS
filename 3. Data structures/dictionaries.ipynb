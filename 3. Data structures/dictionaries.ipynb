{
 "cells": [
  {
   "cell_type": "markdown",
   "metadata": {},
   "source": [
    "#### DICTIONARY\n",
    "\n",
    "Dictionaries are unordered collection of items. They store data in key-value pairs. Keys must be unique and immutable (eg strings,numbers,tuples), while values cane be of any type."
   ]
  },
  {
   "cell_type": "code",
   "execution_count": 1,
   "metadata": {},
   "outputs": [
    {
     "data": {
      "text/plain": [
       "dict"
      ]
     },
     "execution_count": 1,
     "metadata": {},
     "output_type": "execute_result"
    }
   ],
   "source": [
    "## creation\n",
    "\n",
    "empty_dict={}\n",
    "type(empty_dict)\n",
    "\n",
    "empty_dict=dict()\n",
    "type(empty_dict)\n"
   ]
  },
  {
   "cell_type": "code",
   "execution_count": 4,
   "metadata": {},
   "outputs": [
    {
     "data": {
      "text/plain": [
       "{'name': 'priya', 'rollno': 123, 'age': 22}"
      ]
     },
     "execution_count": 4,
     "metadata": {},
     "output_type": "execute_result"
    }
   ],
   "source": [
    "student={\"name\":\"priya\",\"rollno\":123,\"age\":22}\n",
    "student"
   ]
  },
  {
   "cell_type": "code",
   "execution_count": 6,
   "metadata": {},
   "outputs": [
    {
     "data": {
      "text/plain": [
       "{'name': 22, 'rollno': 123}"
      ]
     },
     "execution_count": 6,
     "metadata": {},
     "output_type": "execute_result"
    }
   ],
   "source": [
    "## key should be always unique\n",
    "student={\"name\":\"priya\",\"rollno\":123,\"name\":22}\n",
    "student"
   ]
  },
  {
   "cell_type": "code",
   "execution_count": 12,
   "metadata": {},
   "outputs": [
    {
     "data": {
      "text/plain": [
       "'efsfsff'"
      ]
     },
     "execution_count": 12,
     "metadata": {},
     "output_type": "execute_result"
    }
   ],
   "source": [
    "## accessing dic elements\n",
    "\n",
    "student={\"name\":\"priya\",\"rollno\":123,\"age\":22}\n",
    "\n",
    "student[\"age\"]\n",
    "\n",
    "student.get(\"name\")\n",
    "\n",
    "student.get(\"last_name\",\"efsfsff\") #default value\n",
    "\n"
   ]
  },
  {
   "cell_type": "code",
   "execution_count": 17,
   "metadata": {},
   "outputs": [
    {
     "name": "stdout",
     "output_type": "stream",
     "text": [
      "{'name': 'priya', 'rollno': 123, 'age': 33}\n"
     ]
    }
   ],
   "source": [
    "## modifying dic elements - values are mutable - add, update\n",
    "\n",
    "\n",
    "student[\"age\"]=33 ## update\n",
    "\n",
    "student[\"fcdfsdfsdf\"]=\"dadfdf\" ## added new key value pair\n",
    "\n",
    "del student[\"fcdfsdfsdf\"] ## delete key value pair\n",
    "print(student)\n",
    "\n",
    "\n"
   ]
  },
  {
   "cell_type": "code",
   "execution_count": 21,
   "metadata": {},
   "outputs": [
    {
     "name": "stdout",
     "output_type": "stream",
     "text": [
      "dict_keys(['name', 'rollno', 'age'])\n",
      "dict_values(['priya', 123, 33])\n",
      "dict_items([('name', 'priya'), ('rollno', 123), ('age', 33)])\n"
     ]
    }
   ],
   "source": [
    "## dic methods\n",
    "\n",
    "keys=student.keys()\n",
    "print(keys)\n",
    "\n",
    "values=student.values()\n",
    "print(values)\n",
    "\n",
    "items=student.items()\n",
    "print(items)\n",
    "\n"
   ]
  },
  {
   "cell_type": "code",
   "execution_count": 22,
   "metadata": {},
   "outputs": [
    {
     "name": "stdout",
     "output_type": "stream",
     "text": [
      "{'name': 'priya', 'rollno': 123, 'age': 33}\n"
     ]
    }
   ],
   "source": [
    "## shallow copy\n",
    "student_copy=student\n",
    "\n",
    "print(student_copy)"
   ]
  },
  {
   "cell_type": "code",
   "execution_count": 23,
   "metadata": {},
   "outputs": [
    {
     "name": "stdout",
     "output_type": "stream",
     "text": [
      "{'name': 'priya1', 'rollno': 123, 'age': 33}\n",
      "{'name': 'priya1', 'rollno': 123, 'age': 33}\n"
     ]
    }
   ],
   "source": [
    "student[\"name\"]=\"priya1\"\n",
    "\n",
    "print(student)\n",
    "print(student_copy)"
   ]
  },
  {
   "cell_type": "code",
   "execution_count": 24,
   "metadata": {},
   "outputs": [
    {
     "name": "stdout",
     "output_type": "stream",
     "text": [
      "{'name': 'priya1', 'rollno': 123, 'age': 33}\n",
      "{'name': 'priya1', 'rollno': 123, 'age': 33}\n",
      "{'name': 'priya1', 'rollno': 123, 'age': 33}\n"
     ]
    }
   ],
   "source": [
    "student_copy1=student.copy() ## shallow copy allowates diff memory\n",
    "\n",
    "print(student)\n",
    "print(student_copy)\n",
    "print(student_copy1)\n"
   ]
  },
  {
   "cell_type": "code",
   "execution_count": 25,
   "metadata": {},
   "outputs": [
    {
     "name": "stdout",
     "output_type": "stream",
     "text": [
      "{'name': 'priyanka', 'rollno': 123, 'age': 33}\n",
      "{'name': 'priyanka', 'rollno': 123, 'age': 33}\n",
      "{'name': 'priya1', 'rollno': 123, 'age': 33}\n"
     ]
    }
   ],
   "source": [
    "student[\"name\"]=\"priyanka\"\n",
    "\n",
    "print(student)\n",
    "print(student_copy)\n",
    "print(student_copy1)\n"
   ]
  },
  {
   "cell_type": "code",
   "execution_count": 27,
   "metadata": {},
   "outputs": [
    {
     "name": "stdout",
     "output_type": "stream",
     "text": [
      "name\n",
      "rollno\n",
      "age\n",
      "priyanka\n",
      "123\n",
      "33\n"
     ]
    }
   ],
   "source": [
    "### iteration over dic\n",
    "\n",
    "for keys in student.keys():\n",
    "    print(keys)\n",
    "    \n",
    "    \n",
    "for values in student.values():\n",
    "    print(values)"
   ]
  },
  {
   "cell_type": "code",
   "execution_count": 29,
   "metadata": {},
   "outputs": [
    {
     "data": {
      "text/plain": [
       "{0: 0, 1: 1, 2: 4, 3: 9, 4: 16}"
      ]
     },
     "execution_count": 29,
     "metadata": {},
     "output_type": "execute_result"
    }
   ],
   "source": [
    "## dic comprehension\n",
    "\n",
    "squares={x:x**2 for x in range(5)}\n",
    "\n",
    "squares"
   ]
  },
  {
   "cell_type": "code",
   "execution_count": 30,
   "metadata": {},
   "outputs": [
    {
     "data": {
      "text/plain": [
       "{0: 0, 2: 4, 4: 16}"
      ]
     },
     "execution_count": 30,
     "metadata": {},
     "output_type": "execute_result"
    }
   ],
   "source": [
    "evens=squares={x:x**2 for x in range(5) if x%2==0}\n",
    "evens\n"
   ]
  },
  {
   "cell_type": "code",
   "execution_count": 31,
   "metadata": {},
   "outputs": [
    {
     "data": {
      "text/plain": [
       "{'a': 1, 'b': 3, 'c': 4}"
      ]
     },
     "execution_count": 31,
     "metadata": {},
     "output_type": "execute_result"
    }
   ],
   "source": [
    "## merge 2 dic \n",
    "\n",
    "dic1={\"a\":1,\"b\":2}\n",
    "dic2={\"b\":3,\"c\":4}\n",
    "merged_dic={**dic1,**dic2}\n",
    "merged_dic"
   ]
  }
 ],
 "metadata": {
  "kernelspec": {
   "display_name": "Python 3",
   "language": "python",
   "name": "python3"
  },
  "language_info": {
   "codemirror_mode": {
    "name": "ipython",
    "version": 3
   },
   "file_extension": ".py",
   "mimetype": "text/x-python",
   "name": "python",
   "nbconvert_exporter": "python",
   "pygments_lexer": "ipython3",
   "version": "3.9.20"
  }
 },
 "nbformat": 4,
 "nbformat_minor": 2
}
