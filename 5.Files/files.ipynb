{
 "cells": [
  {
   "cell_type": "code",
   "execution_count": 1,
   "metadata": {},
   "outputs": [
    {
     "name": "stdout",
     "output_type": "stream",
     "text": [
      "/Users/priyankarajana/DATASCIENCE/DS/5.Files\n"
     ]
    }
   ],
   "source": [
    "### file and dir aaccess\n",
    "\n",
    "\n",
    "import os\n",
    "\n",
    "print(os.getcwd())\n",
    "\n"
   ]
  },
  {
   "cell_type": "code",
   "execution_count": 2,
   "metadata": {},
   "outputs": [],
   "source": [
    "os.mkdir(\"test\")"
   ]
  },
  {
   "cell_type": "code",
   "execution_count": 3,
   "metadata": {},
   "outputs": [
    {
     "data": {
      "text/plain": [
       "'dest.txt'"
      ]
     },
     "execution_count": 3,
     "metadata": {},
     "output_type": "execute_result"
    }
   ],
   "source": [
    "## high level operations on files and collection of files\n",
    "\n",
    "import shutil\n",
    "\n",
    "shutil.copyfile('source.txt','dest.txt')"
   ]
  },
  {
   "cell_type": "code",
   "execution_count": 4,
   "metadata": {},
   "outputs": [
    {
     "name": "stdout",
     "output_type": "stream",
     "text": [
      "{\"name\": \"priya\", \"age\": 23}\n",
      "<class 'str'>\n",
      "{'name': 'priya', 'age': 23}\n",
      "<class 'dict'>\n"
     ]
    }
   ],
   "source": [
    "## data serialization\n",
    "\n",
    "import json\n",
    "data={\"name\":\"priya\",\"age\":23}\n",
    "json_str=json.dumps(data)\n",
    "\n",
    "print(json_str)\n",
    "print(type(json_str))\n",
    "\n",
    "parsed_data=json.loads(json_str)\n",
    "print(parsed_data)\n",
    "\n",
    "print(type(parsed_data))\n"
   ]
  },
  {
   "cell_type": "code",
   "execution_count": 5,
   "metadata": {},
   "outputs": [],
   "source": [
    "## csv\n",
    "\n",
    "import csv\n",
    "\n",
    "with open('example.csv',mode='w',newline='') as file:\n",
    "    write=csv.writer(file)\n",
    "    write.writerow(['name','age'])\n",
    "    write.writerow(['sdsd','22'])"
   ]
  },
  {
   "cell_type": "code",
   "execution_count": 6,
   "metadata": {},
   "outputs": [
    {
     "name": "stdout",
     "output_type": "stream",
     "text": [
      "['name', 'age']\n",
      "['sdsd', '22']\n"
     ]
    }
   ],
   "source": [
    "with open('example.csv',mode='r') as file:\n",
    "    read=csv.reader(file)\n",
    "    for read in read:\n",
    "        print(read)    "
   ]
  },
  {
   "cell_type": "code",
   "execution_count": 7,
   "metadata": {},
   "outputs": [],
   "source": [
    "with open('example.txt','a') as file:\n",
    "    file.write(\"['name','age']\")\n"
   ]
  }
 ],
 "metadata": {
  "kernelspec": {
   "display_name": "Python 3",
   "language": "python",
   "name": "python3"
  },
  "language_info": {
   "codemirror_mode": {
    "name": "ipython",
    "version": 3
   },
   "file_extension": ".py",
   "mimetype": "text/x-python",
   "name": "python",
   "nbconvert_exporter": "python",
   "pygments_lexer": "ipython3",
   "version": "3.9.20"
  }
 },
 "nbformat": 4,
 "nbformat_minor": 2
}
