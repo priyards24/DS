{
 "cells": [
  {
   "cell_type": "markdown",
   "metadata": {},
   "source": [
    "#### ABSTRACTION\n",
    "\n",
    "abstraction involves hiding complex implementation details and exposing only the necessary features.This helps in reducing programming complexity and effort."
   ]
  },
  {
   "cell_type": "code",
   "execution_count": null,
   "metadata": {},
   "outputs": [],
   "source": [
    "from abc import ABC,abstractmethod\n",
    "\n",
    "## define an abstract class\n",
    "\n",
    "class Vehicle(ABC):\n",
    "    \n",
    "    def drive(self):\n",
    "        print(\"the vehicle is used for driving\")\n",
    "        \n",
    "    @abstractmethod\n",
    "    def start_engine(self):\n",
    "        pass\n",
    "    \n",
    "## derived class 1\n",
    "class Car(Vehicle):\n",
    "    def start_engine(self):\n",
    "        return \"car engine started\"\n",
    "    \n",
    "## derived class 2\n",
    "class motorcycle(Vehicle):\n",
    "    def start_engine(self):\n",
    "        return \"motor cycle started\"\n",
    "    \n",
    "# function that demonstartes polymorphism\n",
    "\n",
    "def start_vehicle(vehicle):\n",
    "    print(vehicle.start_engine())"
   ]
  }
 ],
 "metadata": {
  "kernelspec": {
   "display_name": "Python 3",
   "language": "python",
   "name": "python3"
  },
  "language_info": {
   "name": "python",
   "version": "3.9.20"
  }
 },
 "nbformat": 4,
 "nbformat_minor": 2
}
