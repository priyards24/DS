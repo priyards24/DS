{
 "cells": [
  {
   "cell_type": "markdown",
   "metadata": {},
   "source": [
    "#### Encapsulation and abstraction\n",
    "\n",
    "\n",
    "Encapsulation and abstraction are two fundamental principles of OOPs that help in designing robust, maintainable and resuable code. Encapsulation involves bundling data and methods that operate on the data with a single unit, while abstraction involves hiding complex implementation details and exposing only the necessary features."
   ]
  },
  {
   "cell_type": "markdown",
   "metadata": {},
   "source": [
    "#### Encapusulation \n",
    "\n",
    "Encapuslation is the concept of wrapping data (variables) and methods together as a single unit. It restricts direct access to some of the objects components, which is a means of preventing accidental interference and misuse of the data."
   ]
  },
  {
   "cell_type": "code",
   "execution_count": 1,
   "metadata": {},
   "outputs": [
    {
     "name": "stdout",
     "output_type": "stream",
     "text": [
      "Sdsf\n"
     ]
    }
   ],
   "source": [
    "## ENCAPULATION EXAMPLE with getter and setter methods\n",
    "\n",
    "## public, protected and private or acess modifiers\n",
    "\n",
    "\n",
    "class Dogs:\n",
    "    \n",
    "    def __init__(self,name,age):\n",
    "        self.name=name # public variable\n",
    "        self.age=age # public variable\n",
    "   \n",
    "        \n",
    "dog1=Dogs(\"Sdsf\",33)\n",
    "print(dog1.name)\n"
   ]
  },
  {
   "cell_type": "code",
   "execution_count": 3,
   "metadata": {},
   "outputs": [
    {
     "data": {
      "text/plain": [
       "['__class__',\n",
       " '__delattr__',\n",
       " '__dict__',\n",
       " '__dir__',\n",
       " '__doc__',\n",
       " '__eq__',\n",
       " '__format__',\n",
       " '__ge__',\n",
       " '__getattribute__',\n",
       " '__gt__',\n",
       " '__hash__',\n",
       " '__init__',\n",
       " '__init_subclass__',\n",
       " '__le__',\n",
       " '__lt__',\n",
       " '__module__',\n",
       " '__ne__',\n",
       " '__new__',\n",
       " '__reduce__',\n",
       " '__reduce_ex__',\n",
       " '__repr__',\n",
       " '__setattr__',\n",
       " '__sizeof__',\n",
       " '__str__',\n",
       " '__subclasshook__',\n",
       " '__weakref__',\n",
       " 'age',\n",
       " 'name']"
      ]
     },
     "execution_count": 3,
     "metadata": {},
     "output_type": "execute_result"
    }
   ],
   "source": [
    "dir(dog1)"
   ]
  },
  {
   "cell_type": "code",
   "execution_count": 9,
   "metadata": {},
   "outputs": [
    {
     "ename": "AttributeError",
     "evalue": "'DogsS' object has no attribute '__name'",
     "output_type": "error",
     "traceback": [
      "\u001b[0;31m---------------------------------------------------------------------------\u001b[0m",
      "\u001b[0;31mAttributeError\u001b[0m                            Traceback (most recent call last)",
      "Cell \u001b[0;32mIn[9], line 9\u001b[0m\n\u001b[1;32m      5\u001b[0m         \u001b[38;5;28mself\u001b[39m\u001b[38;5;241m.\u001b[39m__age\u001b[38;5;241m=\u001b[39mage \u001b[38;5;66;03m# PRIVATE variable\u001b[39;00m\n\u001b[1;32m      8\u001b[0m dog2\u001b[38;5;241m=\u001b[39mDogsS(\u001b[38;5;124m\"\u001b[39m\u001b[38;5;124mSdsf\u001b[39m\u001b[38;5;124m\"\u001b[39m,\u001b[38;5;241m33\u001b[39m)\n\u001b[0;32m----> 9\u001b[0m \u001b[38;5;28mprint\u001b[39m(\u001b[43mdog2\u001b[49m\u001b[38;5;241;43m.\u001b[39;49m\u001b[43m__name\u001b[49m)\n",
      "\u001b[0;31mAttributeError\u001b[0m: 'DogsS' object has no attribute '__name'"
     ]
    }
   ],
   "source": [
    "## PRIVATE VAR CANNOT BE ACCESSED OUTISE CLASS / DERIVED CLASS\n",
    "\n",
    "class DogsS:\n",
    "    \n",
    "    def __init__(self,name,age):\n",
    "        self.__name=name # PRIVATE variable\n",
    "        self.__age=age # PRIVATE variable\n",
    "   \n",
    "        \n",
    "dog2=DogsS(\"Sdsf\",33)\n",
    "print(dog2.__name)\n"
   ]
  },
  {
   "cell_type": "code",
   "execution_count": 10,
   "metadata": {},
   "outputs": [
    {
     "data": {
      "text/plain": [
       "['_DogsS__age',\n",
       " '_DogsS__name',\n",
       " '__class__',\n",
       " '__delattr__',\n",
       " '__dict__',\n",
       " '__dir__',\n",
       " '__doc__',\n",
       " '__eq__',\n",
       " '__format__',\n",
       " '__ge__',\n",
       " '__getattribute__',\n",
       " '__gt__',\n",
       " '__hash__',\n",
       " '__init__',\n",
       " '__init_subclass__',\n",
       " '__le__',\n",
       " '__lt__',\n",
       " '__module__',\n",
       " '__ne__',\n",
       " '__new__',\n",
       " '__reduce__',\n",
       " '__reduce_ex__',\n",
       " '__repr__',\n",
       " '__setattr__',\n",
       " '__sizeof__',\n",
       " '__str__',\n",
       " '__subclasshook__',\n",
       " '__weakref__']"
      ]
     },
     "execution_count": 10,
     "metadata": {},
     "output_type": "execute_result"
    }
   ],
   "source": [
    "dir(dog2)"
   ]
  },
  {
   "cell_type": "code",
   "execution_count": 19,
   "metadata": {},
   "outputs": [
    {
     "name": "stdout",
     "output_type": "stream",
     "text": [
      "Sdsf\n"
     ]
    }
   ],
   "source": [
    "\n",
    "## PROTECTED VAR CANNOT BE ACCESSED OUTISE CLASS BUT CAN BE ACCESD IN DERIVED CLASS\n",
    "\n",
    "class DogsS2:\n",
    "    \n",
    "    def __init__(self,name,age,gender):\n",
    "        self._name=name # PROTECTED variable\n",
    "        self._age=age # PROTECTED variable\n",
    "        self.gender=gender\n",
    "   \n",
    "class DogsSE(DogsS2):\n",
    "    \n",
    "    def __init__(self,name,age,gender):\n",
    "        super().__init__(name,age,gender)\n",
    "\n",
    "        \n",
    "dog222=DogsSE(\"Sdsf\",33,\"female\")\n",
    "print(dog222._name)\n"
   ]
  },
  {
   "cell_type": "code",
   "execution_count": 7,
   "metadata": {},
   "outputs": [
    {
     "data": {
      "text/plain": [
       "['__class__',\n",
       " '__delattr__',\n",
       " '__dict__',\n",
       " '__dir__',\n",
       " '__doc__',\n",
       " '__eq__',\n",
       " '__format__',\n",
       " '__ge__',\n",
       " '__getattribute__',\n",
       " '__gt__',\n",
       " '__hash__',\n",
       " '__init__',\n",
       " '__init_subclass__',\n",
       " '__le__',\n",
       " '__lt__',\n",
       " '__module__',\n",
       " '__ne__',\n",
       " '__new__',\n",
       " '__reduce__',\n",
       " '__reduce_ex__',\n",
       " '__repr__',\n",
       " '__setattr__',\n",
       " '__sizeof__',\n",
       " '__str__',\n",
       " '__subclasshook__',\n",
       " '__weakref__',\n",
       " '_age',\n",
       " '_name']"
      ]
     },
     "execution_count": 7,
     "metadata": {},
     "output_type": "execute_result"
    }
   ],
   "source": [
    "dir(dog2)"
   ]
  },
  {
   "cell_type": "code",
   "execution_count": 23,
   "metadata": {},
   "outputs": [
    {
     "name": "stdout",
     "output_type": "stream",
     "text": [
      "kkkkk\n"
     ]
    }
   ],
   "source": [
    "# ENCAPUSLATION USING GETTER AND SETTER\n",
    "\n",
    "\n",
    "class DogsS3:\n",
    "    \n",
    "    def __init__(self,name,age):\n",
    "        self.__name=name # PRIVATE variable\n",
    "        self.__age=age # PRIVATE variable\n",
    "        \n",
    "    # getter method for name\n",
    "    \n",
    "    def get_name(self):\n",
    "        return self.__name\n",
    "    \n",
    "    #setter\n",
    "    \n",
    "    def set_name(self,name):\n",
    "        self.__name=name\n",
    "   \n",
    "        \n",
    "dog2=DogsS3(\"Sddsfssf\",33)\n",
    "dog2.set_name(\"kkkkk\")\n",
    "\n",
    "print(dog2.get_name())\n"
   ]
  }
 ],
 "metadata": {
  "kernelspec": {
   "display_name": "Python 3",
   "language": "python",
   "name": "python3"
  },
  "language_info": {
   "codemirror_mode": {
    "name": "ipython",
    "version": 3
   },
   "file_extension": ".py",
   "mimetype": "text/x-python",
   "name": "python",
   "nbconvert_exporter": "python",
   "pygments_lexer": "ipython3",
   "version": "3.9.20"
  }
 },
 "nbformat": 4,
 "nbformat_minor": 2
}
