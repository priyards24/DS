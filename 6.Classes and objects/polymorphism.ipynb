{
 "cells": [
  {
   "cell_type": "markdown",
   "metadata": {},
   "source": [
    "#### polymorphism\n",
    "\n",
    "polymorphism is a fundamental concept in oops that allows objects of diff classes to be treated as objects of a common superclass. It provides a way to perform single action in diff forms. It is typically achieved through method overriding and interfaces."
   ]
  },
  {
   "cell_type": "markdown",
   "metadata": {},
   "source": [
    "## Method overriding\n",
    "\n",
    "Method overriding allows a child class to provide a specific implementation of a method that is already defined in its parent class"
   ]
  },
  {
   "cell_type": "code",
   "execution_count": 7,
   "metadata": {},
   "outputs": [],
   "source": [
    "## base class\n",
    "\n",
    "class Animal:\n",
    "    def speak(self):\n",
    "        return \"sound of an animal\"\n",
    "    \n",
    "# derived class\n",
    "\n",
    "class dog(Animal):\n",
    "    def speak(self):\n",
    "        print(\"bow bow\")\n",
    "        \n",
    "# derived class 2\n",
    "\n",
    "class cat(Animal):\n",
    "    def speak(self):\n",
    "        print(\"meow meow\")\n",
    "\n",
    "## func that demonstartes polymorphism\n",
    "\n",
    "def animal_speak(animal):\n",
    "    print(animal.speak())"
   ]
  },
  {
   "cell_type": "code",
   "execution_count": 9,
   "metadata": {},
   "outputs": [],
   "source": [
    "dogobj=dog()\n",
    "catobj=cat()"
   ]
  },
  {
   "cell_type": "code",
   "execution_count": 10,
   "metadata": {},
   "outputs": [
    {
     "name": "stdout",
     "output_type": "stream",
     "text": [
      "bow bow\n",
      "meow meow\n"
     ]
    }
   ],
   "source": [
    "dogobj.speak()\n",
    "catobj.speak()"
   ]
  },
  {
   "cell_type": "code",
   "execution_count": 12,
   "metadata": {},
   "outputs": [
    {
     "name": "stdout",
     "output_type": "stream",
     "text": [
      "bow bow\n",
      "None\n"
     ]
    }
   ],
   "source": [
    "animal_speak(dogobj)"
   ]
  },
  {
   "cell_type": "code",
   "execution_count": 14,
   "metadata": {},
   "outputs": [],
   "source": [
    "## polymorphism with functions and methods\n",
    "\n",
    "## base class\n",
    "\n",
    "class shape:\n",
    "    def area(self):\n",
    "        return \"the area of the figure\"\n",
    "\n",
    "# derived class 1\n",
    "\n",
    "class Rectangle(shape):\n",
    "    def __init__(self,width,height):\n",
    "        super().__init__()\n",
    "        self.width=width\n",
    "        self.height=height\n",
    "        \n",
    "    def area(self):\n",
    "        return self.width * self.height\n",
    "            "
   ]
  },
  {
   "cell_type": "markdown",
   "metadata": {},
   "source": [
    "## polymorphism with abstract base class/ interfaces\n",
    "\n",
    "\n",
    "Abstarct base class are used to define common methods for a group of related objects. They can enforce that derived classes implement particular methods, promoting consistency across different implementations."
   ]
  },
  {
   "cell_type": "code",
   "execution_count": 16,
   "metadata": {},
   "outputs": [],
   "source": [
    "from abc import ABC,abstractmethod\n",
    "\n",
    "## define an abstract class\n",
    "\n",
    "class Vehicle(ABC):\n",
    "    @abstractmethod\n",
    "    def start_engine(self):\n",
    "        pass\n",
    "    \n",
    "## derived class 1\n",
    "class Car(Vehicle):\n",
    "    def start_engine(self):\n",
    "        return \"car engine started\"\n",
    "    \n",
    "## derived class 2\n",
    "class motorcycle(Vehicle):\n",
    "    def start_engine(self):\n",
    "        return \"motor cycle started\"\n",
    "    \n",
    "# function that demonstartes polymorphism\n",
    "\n",
    "def start_vehicle(vehicle):\n",
    "    print(vehicle.start_engine())"
   ]
  },
  {
   "cell_type": "code",
   "execution_count": 17,
   "metadata": {},
   "outputs": [
    {
     "name": "stdout",
     "output_type": "stream",
     "text": [
      "car engine started\n"
     ]
    }
   ],
   "source": [
    "# create objects of car and motovcycle\n",
    "\n",
    "car=Car()\n",
    "mcycle= motorcycle()\n",
    "\n",
    "start_vehicle(car)"
   ]
  }
 ],
 "metadata": {
  "kernelspec": {
   "display_name": "Python 3",
   "language": "python",
   "name": "python3"
  },
  "language_info": {
   "codemirror_mode": {
    "name": "ipython",
    "version": 3
   },
   "file_extension": ".py",
   "mimetype": "text/x-python",
   "name": "python",
   "nbconvert_exporter": "python",
   "pygments_lexer": "ipython3",
   "version": "3.9.20"
  }
 },
 "nbformat": 4,
 "nbformat_minor": 2
}
