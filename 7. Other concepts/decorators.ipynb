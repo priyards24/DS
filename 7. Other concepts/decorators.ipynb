{
 "cells": [
  {
   "cell_type": "markdown",
   "metadata": {},
   "source": [
    "## Decorators\n",
    "\n",
    "Decorators are a powerful and flexible feature in python that allows you to modify the behaviour of a function or class method. They are commonly used to add functionality to functions or methods without modifying their actual code. "
   ]
  },
  {
   "cell_type": "code",
   "execution_count": 9,
   "metadata": {},
   "outputs": [
    {
     "data": {
      "text/plain": [
       "'welcome to hell'"
      ]
     },
     "execution_count": 9,
     "metadata": {},
     "output_type": "execute_result"
    }
   ],
   "source": [
    "## function copy\n",
    "\n",
    "def welcome():\n",
    "    return \"welcome to hell\"\n",
    "\n",
    "welcome()"
   ]
  },
  {
   "cell_type": "code",
   "execution_count": 10,
   "metadata": {},
   "outputs": [
    {
     "data": {
      "text/plain": [
       "'welcome to hell'"
      ]
     },
     "execution_count": 10,
     "metadata": {},
     "output_type": "execute_result"
    }
   ],
   "source": [
    "wel=welcome\n",
    "wel()"
   ]
  },
  {
   "cell_type": "code",
   "execution_count": 6,
   "metadata": {},
   "outputs": [],
   "source": [
    "del welcome"
   ]
  },
  {
   "cell_type": "code",
   "execution_count": 7,
   "metadata": {},
   "outputs": [
    {
     "data": {
      "text/plain": [
       "'welcome to hell'"
      ]
     },
     "execution_count": 7,
     "metadata": {},
     "output_type": "execute_result"
    }
   ],
   "source": [
    "wel() ## even if we delete we can see the func"
   ]
  },
  {
   "cell_type": "code",
   "execution_count": 15,
   "metadata": {},
   "outputs": [],
   "source": [
    "## closures - func inside a func\n",
    "\n",
    "def main_wel(msg):\n",
    "    # msg=\"welcome\"\n",
    "    def sub_wel():\n",
    "        print(\"welcome to advanced hell\")\n",
    "        print(msg)\n",
    "        print(\"please study yaar\")\n",
    "    return sub_wel()"
   ]
  },
  {
   "cell_type": "code",
   "execution_count": 16,
   "metadata": {},
   "outputs": [
    {
     "name": "stdout",
     "output_type": "stream",
     "text": [
      "welcome to advanced hell\n",
      "sdfsdfsfd\n",
      "please study yaar\n"
     ]
    }
   ],
   "source": [
    "main_wel(\"sdfsdfsfd\")"
   ]
  },
  {
   "cell_type": "code",
   "execution_count": 19,
   "metadata": {},
   "outputs": [],
   "source": [
    "def main_wel(func):\n",
    "    # msg=\"welcome\"\n",
    "    def sub_wel():\n",
    "        print(\"welcome to advanced hell\")\n",
    "        func(\"dfsdfsdfdsf\")\n",
    "        print(\"please study yaar\")\n",
    "    return sub_wel()"
   ]
  },
  {
   "cell_type": "code",
   "execution_count": 20,
   "metadata": {},
   "outputs": [
    {
     "name": "stdout",
     "output_type": "stream",
     "text": [
      "welcome to advanced hell\n",
      "dfsdfsdfdsf\n",
      "please study yaar\n"
     ]
    }
   ],
   "source": [
    "main_wel(print)"
   ]
  },
  {
   "cell_type": "code",
   "execution_count": 32,
   "metadata": {},
   "outputs": [],
   "source": [
    "## decorators\n",
    "\n",
    "def main_dec(func):\n",
    "    # msg=\"welcome\"\n",
    "    def sub_dec():\n",
    "        print(\"welcome to advanced hell\")\n",
    "        func()\n",
    "        print(\"please study yaar\")\n",
    "    return sub_dec()"
   ]
  },
  {
   "cell_type": "code",
   "execution_count": 33,
   "metadata": {},
   "outputs": [],
   "source": [
    "def course_intro():\n",
    "    print(\"studying studying\")\n"
   ]
  },
  {
   "cell_type": "code",
   "execution_count": 34,
   "metadata": {},
   "outputs": [
    {
     "name": "stdout",
     "output_type": "stream",
     "text": [
      "welcome to advanced hell\n",
      "studying studying\n",
      "please study yaar\n"
     ]
    }
   ],
   "source": [
    "main_dec(course_intro)  ## without calling this func how can we print thats how decorator created"
   ]
  },
  {
   "cell_type": "code",
   "execution_count": 35,
   "metadata": {},
   "outputs": [
    {
     "name": "stdout",
     "output_type": "stream",
     "text": [
      "welcome to advanced hell\n",
      "studying studying\n",
      "please study yaar\n"
     ]
    }
   ],
   "source": [
    "## dec syntax\n",
    "\n",
    "@main_dec \n",
    "def course_intro():  ## this method goes as a parameter to above witten decoratoe func\n",
    "    print(\"studying studying\")\n"
   ]
  },
  {
   "cell_type": "code",
   "execution_count": 36,
   "metadata": {},
   "outputs": [],
   "source": [
    "def my_decorator(func):\n",
    "    def wrapper():\n",
    "        print(\"something is happening before the func is called.\")\n",
    "        func()\n",
    "        print(\"something is happening after the func is called.\")\n",
    "    return wrapper"
   ]
  },
  {
   "cell_type": "code",
   "execution_count": 37,
   "metadata": {},
   "outputs": [],
   "source": [
    "@my_decorator\n",
    "def say_hello():\n",
    "    print(\"helllooooo\")"
   ]
  },
  {
   "cell_type": "code",
   "execution_count": 38,
   "metadata": {},
   "outputs": [
    {
     "name": "stdout",
     "output_type": "stream",
     "text": [
      "something is happening before the func is called.\n",
      "helllooooo\n",
      "something is happening after the func is called.\n"
     ]
    }
   ],
   "source": [
    "say_hello()"
   ]
  }
 ],
 "metadata": {
  "kernelspec": {
   "display_name": "Python 3",
   "language": "python",
   "name": "python3"
  },
  "language_info": {
   "codemirror_mode": {
    "name": "ipython",
    "version": 3
   },
   "file_extension": ".py",
   "mimetype": "text/x-python",
   "name": "python",
   "nbconvert_exporter": "python",
   "pygments_lexer": "ipython3",
   "version": "3.9.20"
  }
 },
 "nbformat": 4,
 "nbformat_minor": 2
}
