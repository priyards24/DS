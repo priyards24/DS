{
 "cells": [
  {
   "cell_type": "markdown",
   "metadata": {},
   "source": [
    "#### SQL AND SQLite\n",
    "\n",
    "SQL (structured query language) is a standard language for managing and manipulating relational databases."
   ]
  },
  {
   "cell_type": "markdown",
   "metadata": {},
   "source": [
    "SQLite is a self-contained, serverless, and zero-configuration database engine taht is widely used for embedded database systems."
   ]
  },
  {
   "cell_type": "code",
   "execution_count": 1,
   "metadata": {},
   "outputs": [],
   "source": [
    "import sqlite3"
   ]
  },
  {
   "cell_type": "code",
   "execution_count": 2,
   "metadata": {},
   "outputs": [
    {
     "data": {
      "text/plain": [
       "<sqlite3.Connection at 0x10427b300>"
      ]
     },
     "execution_count": 2,
     "metadata": {},
     "output_type": "execute_result"
    }
   ],
   "source": [
    "## connect to an sqlite db\n",
    "\n",
    "connection=sqlite3.connect('example.db')\n",
    "connection"
   ]
  },
  {
   "cell_type": "code",
   "execution_count": 3,
   "metadata": {},
   "outputs": [],
   "source": [
    "cursor=connection.cursor()"
   ]
  },
  {
   "cell_type": "code",
   "execution_count": 5,
   "metadata": {},
   "outputs": [],
   "source": [
    "# create a table\n",
    "\n",
    "cursor.execute('''\n",
    "Create Table If Not Exists employees(\n",
    "    id integer Primary key,\n",
    "    name Text Not Null,\n",
    "    age Integer,\n",
    "    department text\n",
    "    )\n",
    "''')\n",
    "## commit the chnages \n",
    "\n",
    "connection.commit()"
   ]
  },
  {
   "cell_type": "code",
   "execution_count": 10,
   "metadata": {},
   "outputs": [
    {
     "data": {
      "text/plain": [
       "<sqlite3.Cursor at 0x10428f7a0>"
      ]
     },
     "execution_count": 10,
     "metadata": {},
     "output_type": "execute_result"
    }
   ],
   "source": [
    "\n",
    "cursor.execute('''\n",
    "               Select * from employees\n",
    "               ''')"
   ]
  },
  {
   "cell_type": "code",
   "execution_count": 9,
   "metadata": {},
   "outputs": [],
   "source": [
    "## insert data in sqlite db\n",
    "\n",
    "\n",
    "cursor.execute('''\n",
    "Insert INTO employees(name, age, department)\n",
    "VALUES ('A',22,'ENGINEERING')\n",
    "''')\n",
    "\n",
    "\n",
    "cursor.execute('''\n",
    "Insert INTO employees(name, age, department)\n",
    "VALUES ('B',21,'ENGINEERING')\n",
    "''')\n",
    "\n",
    "\n",
    "cursor.execute('''\n",
    "Insert INTO employees(name, age, department)\n",
    "VALUES ('C',25,'ENGINEERING')\n",
    "''')\n",
    "\n",
    "connection.commit()"
   ]
  },
  {
   "cell_type": "code",
   "execution_count": 12,
   "metadata": {},
   "outputs": [
    {
     "name": "stdout",
     "output_type": "stream",
     "text": [
      "(1, 'A', 22, 'ENGINEERING')\n",
      "(2, 'B', 21, 'ENGINEERING')\n",
      "(3, 'C', 25, 'ENGINEERING')\n"
     ]
    }
   ],
   "source": [
    "## QUERY THE DATA FROM THE TABLE\n",
    "\n",
    "cursor.execute('''\n",
    "               Select * from employees\n",
    "               ''')\n",
    "\n",
    "rows=cursor.fetchall()\n",
    "\n",
    "## print the queried data\n",
    "\n",
    "for row in rows:\n",
    "    print(row)"
   ]
  },
  {
   "cell_type": "code",
   "execution_count": null,
   "metadata": {},
   "outputs": [],
   "source": []
  }
 ],
 "metadata": {
  "kernelspec": {
   "display_name": "Python 3",
   "language": "python",
   "name": "python3"
  },
  "language_info": {
   "codemirror_mode": {
    "name": "ipython",
    "version": 3
   },
   "file_extension": ".py",
   "mimetype": "text/x-python",
   "name": "python",
   "nbconvert_exporter": "python",
   "pygments_lexer": "ipython3",
   "version": "3.9.20"
  }
 },
 "nbformat": 4,
 "nbformat_minor": 2
}
